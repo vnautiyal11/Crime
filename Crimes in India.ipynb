{
 "cells": [
  {
   "cell_type": "code",
   "execution_count": 1,
   "id": "39c30de4-e6bb-42cb-a426-e381ab179399",
   "metadata": {},
   "outputs": [],
   "source": [
    "#1 Importing neccessary libraries"
   ]
  },
  {
   "cell_type": "code",
   "execution_count": null,
   "id": "883ea5c0-86f7-41f3-96bc-6075deae19ba",
   "metadata": {},
   "outputs": [],
   "source": [
    "import pandas as pd\n",
    "import matplotlib.pyplot as plt\n",
    "import seaborn as sns\n",
    "\n",
    "pd.set_option('display.max_columns', None)\n",
    "sns.set(style=\"whitegrid\")"
   ]
  },
  {
   "cell_type": "code",
   "execution_count": null,
   "id": "8bc9d810-cdd1-4da0-9de5-dce15fa85e17",
   "metadata": {},
   "outputs": [],
   "source": [
    "#2 Load CSV File"
   ]
  },
  {
   "cell_type": "code",
   "execution_count": null,
   "id": "2800713b-d0c8-4ddc-a620-af86caa1ed25",
   "metadata": {},
   "outputs": [],
   "source": [
    "file_path = \"crime.csv\";\n",
    "\n",
    "# Load the data\n",
    "try:\n",
    "    df = pd.read_csv(file_path)\n",
    "    print(\"✅ File loaded successfully!\")\n",
    "except FileNotFoundError:\n",
    "    print(\"❌ File not found. Please check the path and try again.\")"
   ]
  },
  {
   "cell_type": "code",
   "execution_count": 8,
   "id": "dbb9ed31-1457-4244-95a3-14f40ed097c7",
   "metadata": {},
   "outputs": [],
   "source": [
    "#3 Cleaning the file"
   ]
  },
  {
   "cell_type": "code",
   "execution_count": null,
   "id": "91b1df12-a082-4312-ba9e-bccbcee84bff",
   "metadata": {},
   "outputs": [],
   "source": [
    "df.columns = df.columns.str.strip().str.lower().str.replace(' ', '_')\n",
    "print(\"Missing values per column:\\n\")\n",
    "print(df.isnull().sum())\n",
    "df.fillna(0, inplace=True)"
   ]
  },
  {
   "cell_type": "code",
   "execution_count": 10,
   "id": "de4f6975-510b-44ba-936c-3725f61ce6fd",
   "metadata": {},
   "outputs": [],
   "source": [
    "#4 Basic Data Overview"
   ]
  },
  {
   "cell_type": "code",
   "execution_count": null,
   "id": "c6b7743d-5952-45e5-8154-c433d3ecdb44",
   "metadata": {},
   "outputs": [],
   "source": [
    "print(\"Top 5 Rows:\")\n",
    "display(df.head())\n",
    "\n",
    "print(\"\\nData Types:\")\n",
    "print(df.dtypes)\n",
    "\n",
    "print(\"\\nDescriptive Statistics:\")\n",
    "display(df.describe())"
   ]
  },
  {
   "cell_type": "code",
   "execution_count": 12,
   "id": "7eb77536-59e2-4674-b703-c397bf30f32b",
   "metadata": {},
   "outputs": [],
   "source": [
    "#5 Crime Count by state"
   ]
  },
  {
   "cell_type": "code",
   "execution_count": null,
   "id": "89355152-9e13-4bdc-b3a0-5eec72c60e29",
   "metadata": {},
   "outputs": [],
   "source": [
    "if 'state/ut' in df.columns:\n",
    "    city_counts = df['state/ut'].value_counts().head(15)\n",
    "    city_counts.plot(kind='bar', figsize=(10, 5), title='Top 15 States by Crime Reports')\n",
    "    plt.xlabel('state/ut')\n",
    "    plt.ylabel('Number of Crimes')\n",
    "    plt.show()\n",
    "else:\n",
    "    print(\"No 'state/ut' column found.\")"
   ]
  },
  {
   "cell_type": "code",
   "execution_count": 14,
   "id": "4942ac0f-b787-4742-8734-763179215d9b",
   "metadata": {},
   "outputs": [],
   "source": [
    "#6 Analysis of all the crimes"
   ]
  },
  {
   "cell_type": "code",
   "execution_count": null,
   "id": "c06e5b11-f481-47b5-9037-f9608d1e3044",
   "metadata": {},
   "outputs": [],
   "source": [
    "import pandas as pd\n",
    "import matplotlib.pyplot as plt\n",
    "import seaborn as sns\n",
    "\n",
    "# Standardize column names\n",
    "df.columns = df.columns.str.strip().str.lower().str.replace(' ', '_')\n",
    "\n",
    "# Check for 'year' column\n",
    "if 'year' not in df.columns:\n",
    "    print(\"❌ 'year' column not found. Please make sure your dataset has a column named 'year'.\")\n",
    "else:\n",
    "    # Get numeric columns excluding 'year'\n",
    "    numeric_cols = df.select_dtypes(include=['int64', 'float64']).columns.tolist()\n",
    "    numeric_cols = [col for col in numeric_cols if col != 'year']\n",
    "    \n",
    "    print(\"📊 Numeric crime-related columns:\", numeric_cols)\n",
    "    \n",
    "    # Group data by year\n",
    "    year_grouped = df.groupby('year')[numeric_cols].sum().reset_index()\n",
    "\n",
    "    # Plot each column's trend over years\n",
    "    for col in numeric_cols:\n",
    "        plt.figure(figsize=(8, 5))\n",
    "        sns.lineplot(data=year_grouped, x='year', y=col, marker='o')\n",
    "        plt.title(f\"Trend of '{col}' Over the Years\")\n",
    "        plt.xlabel(\"Year\")\n",
    "        plt.ylabel(col)\n",
    "        plt.grid(True)\n",
    "        plt.tight_layout()\n",
    "        plt.show()\n",
    "\n",
    "        print(f\"🧠 From {year_grouped['year'].min()} to {year_grouped['year'].max()}, '{col}' ranged from {year_grouped[col].min()} to {year_grouped[col].max()}.\")\n",
    "        print(\"-\" * 60)\n"
   ]
  },
  {
   "cell_type": "code",
   "execution_count": 16,
   "id": "2b7c4f07-8295-437c-ac9f-551491400e8f",
   "metadata": {},
   "outputs": [],
   "source": [
    "#7 Trend of crimes across years for a given State"
   ]
  },
  {
   "cell_type": "code",
   "execution_count": null,
   "id": "07a146cf-1bb0-4e6c-8611-0918b7a3f23a",
   "metadata": {},
   "outputs": [],
   "source": [
    "import pandas as pd\n",
    "import matplotlib.pyplot as plt\n",
    "import seaborn as sns\n",
    "\n",
    "# Clean column names\n",
    "df.columns = df.columns.str.strip().str.lower().str.replace(' ', '_')\n",
    "\n",
    "# Identify the state and year column (case-insensitive)\n",
    "state_col = next((col for col in df.columns if 'state' in col), None)\n",
    "year_col = 'year' if 'year' in df.columns else None\n",
    "\n",
    "if not state_col or not year_col:\n",
    "    print(\"❌ Required columns ('state' and 'year') not found.\")\n",
    "else:\n",
    "    # Display unique states\n",
    "    states = df[state_col].dropna().unique().tolist()\n",
    "    print(\"# Available States/UTs:\")\n",
    "    for s in states:\n",
    "        print(\"o\", s.upper())\n",
    "\n",
    "    # Ask user to select a state\n",
    "    selected_state = input(\"\\n✏️ Enter a state from the list above: \").strip().lower()\n",
    "    \n",
    "    # Filter rows for selected state\n",
    "    df[state_col] = df[state_col].str.lower().str.strip()\n",
    "    filtered_df = df[df[state_col] == selected_state]\n",
    "    \n",
    "    if filtered_df.empty:\n",
    "        print(\"❌ No data found for the selected state.\")\n",
    "    else:\n",
    "        # Get all crime-related numeric columns\n",
    "        numeric_cols = filtered_df.select_dtypes(include=['int64', 'float64']).columns.tolist()\n",
    "        crime_cols = [col for col in numeric_cols if col != 'year']\n",
    "        \n",
    "        # Sum all crimes year-wise\n",
    "        yearly_total = filtered_df.groupby('year')[crime_cols].sum()\n",
    "        yearly_total['total_crimes'] = yearly_total.sum(axis=1)\n",
    "        yearly_total = yearly_total.reset_index()\n",
    "\n",
    "        # Plotting\n",
    "        plt.figure(figsize=(9, 5))\n",
    "        sns.lineplot(data=yearly_total, x='year', y='total_crimes', marker='o', color='darkred')\n",
    "        plt.title(f\"Total Reported Crimes in {selected_state.title()} Over the Years\")\n",
    "        plt.xlabel(\"Year\")\n",
    "        plt.ylabel(\"Total Crimes\")\n",
    "        plt.grid(True)\n",
    "        plt.tight_layout()\n",
    "        plt.show()\n",
    "        \n",
    "        # Summary\n",
    "        print(f\"🔍 From {yearly_total['year'].min()} to {yearly_total['year'].max()},\")\n",
    "        print(f\"Total crimes ranged from {yearly_total['total_crimes'].min()} to {yearly_total['total_crimes'].max()}.\")\n"
   ]
  },
  {
   "cell_type": "code",
   "execution_count": 18,
   "id": "152ebe10-b96d-429c-ae22-3c88f3157f75",
   "metadata": {},
   "outputs": [],
   "source": [
    "#Type of crime for a given state"
   ]
  },
  {
   "cell_type": "code",
   "execution_count": null,
   "id": "48a5c212-7ea5-48b8-b626-caf254b196ee",
   "metadata": {},
   "outputs": [],
   "source": [
    "import pandas as pd\n",
    "import matplotlib.pyplot as plt\n",
    "import seaborn as sns\n",
    "\n",
    "# Clean column names\n",
    "df.columns = df.columns.str.strip().str.lower().str.replace(' ', '_')\n",
    "\n",
    "# Identify the state and year column\n",
    "state_col = next((col for col in df.columns if 'state' in col), None)\n",
    "year_col = 'year' if 'year' in df.columns else None\n",
    "\n",
    "if not state_col or not year_col:\n",
    "    print(\"❌ Required columns ('state' and 'year') not found.\")\n",
    "else:\n",
    "    # Display unique states in uppercase\n",
    "    states = df[state_col].dropna().unique().tolist()\n",
    "    print(\"📍 Available States/UTs:\")\n",
    "    for s in states:\n",
    "        print(\"🔸\", s.upper())\n",
    "\n",
    "    # Ask user to select a state\n",
    "    selected_state = input(\"\\n✏️ Enter a state from the list above: \").strip().lower()\n",
    "    \n",
    "    # Normalize state column to lowercase for matching\n",
    "    df[state_col] = df[state_col].str.lower().str.strip()\n",
    "    filtered_df = df[df[state_col] == selected_state]\n",
    "    \n",
    "    if filtered_df.empty:\n",
    "        print(\"❌ No data found for the selected state.\")\n",
    "    else:\n",
    "        # Identify all numeric columns except year (assumed crime columns)\n",
    "        numeric_cols = filtered_df.select_dtypes(include=['int64', 'float64']).columns.tolist()\n",
    "        crime_cols = [col for col in numeric_cols if col != year_col]\n",
    "\n",
    "        # Sum total crimes by type over all years for the selected state\n",
    "        crime_sums = filtered_df[crime_cols].sum().sort_values(ascending=False)\n",
    "\n",
    "        # Plotting total crimes by crime type\n",
    "        plt.figure(figsize=(12, 6))\n",
    "        sns.barplot(x=crime_sums.values, y=crime_sums.index, color='darkred')\n",
    "        plt.title(f\"Total Crimes by Type in {selected_state.upper()}\")\n",
    "        plt.xlabel(\"Total Crimes\")\n",
    "        plt.ylabel(\"Crime Type\")\n",
    "        plt.tight_layout()\n",
    "        plt.show()\n",
    "\n",
    "        # Print summary\n",
    "        print(f\"\\n🔍 Crime counts by type in {selected_state.upper()}:\")\n",
    "        print(crime_sums)\n"
   ]
  },
  {
   "cell_type": "code",
   "execution_count": null,
   "id": "a67ee0da-4982-4dc3-90b7-6dfbecc4e5da",
   "metadata": {},
   "outputs": [],
   "source": []
  }
 ],
 "metadata": {
  "kernelspec": {
   "display_name": "Python [conda env:base] *",
   "language": "python",
   "name": "conda-base-py"
  },
  "language_info": {
   "codemirror_mode": {
    "name": "ipython",
    "version": 3
   },
   "file_extension": ".py",
   "mimetype": "text/x-python",
   "name": "python",
   "nbconvert_exporter": "python",
   "pygments_lexer": "ipython3",
   "version": "3.12.7"
  }
 },
 "nbformat": 4,
 "nbformat_minor": 5
}
